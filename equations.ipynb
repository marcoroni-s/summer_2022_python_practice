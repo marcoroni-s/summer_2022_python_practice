{
 "cells": [
  {
   "cell_type": "code",
   "execution_count": 1,
   "id": "8a0b5306",
   "metadata": {},
   "outputs": [],
   "source": [
    "# @param seq a list of numerical values \n",
    "# Precondition: the length of seq > 1 \n",
    "# @return a list of numerical values with precision 5, \n",
    "# where the element at index k is equal to the \n",
    "# difference between the elements at indices k + 1 and k of seq. \n",
    "\n",
    "\n",
    "def getDiffs(seq):\n",
    "    if len(seq) <= 1:\n",
    "        print(\"Sequence length must be greater than 1\")\n",
    "\n",
    "    result = []\n",
    "    for k in range(len(seq) - 1):\n",
    "        difference = round(seq[k + 1] - seq[k], 5)\n",
    "        result.append(difference)\n",
    "\n",
    "    return result\n"
   ]
  },
  {
   "cell_type": "code",
   "execution_count": null,
   "id": "aca124bc",
   "metadata": {},
   "outputs": [],
   "source": [
    "### YOU MUST USE THE getDiffs FUNCTION WHEN IMPLEMENTING THE ###\n",
    "### isLinear FUNCTION ###\n",
    " \n",
    "# @param seq a list of integer values \n",
    "# Precondition: seq.length > 1 \n",
    "# @return true if seq is linear: that is the differences between all \n",
    "# consecutive pairs of elements in seq are identical; false otherwise.\n",
    "\n",
    "\n",
    "def isLinear(seq):\n",
    "    if len(seq) <= 1:\n",
    "        print(\"Sequence length must be greater than 1\")\n",
    "\n",
    "    difference = getDiffs(seq)\n",
    "    identical_difference = difference[0]\n",
    "\n",
    "    for y in difference:\n",
    "        if y != identical_difference:\n",
    "            return False\n",
    "        \n",
    "    return True"
   ]
  },
  {
   "cell_type": "code",
   "execution_count": null,
   "id": "4bb7631f",
   "metadata": {},
   "outputs": [],
   "source": [
    "def isQuadratic(seq):\n",
    "    if len(seq) <= 2:\n",
    "        print(\"Sequence length must be greater than 2\")\n",
    "\n",
    "    if isLinear(seq):\n",
    "        return False\n",
    "\n",
    "    differences = getDiffs(seq)\n",
    "    identical_difference = differences[0]\n",
    "\n",
    "    for z in differences:\n",
    "        if z != identical_difference:\n",
    "            return False\n",
    "        \n",
    "    return True\n"
   ]
  },
  {
   "cell_type": "code",
   "execution_count": null,
   "id": "684967f3",
   "metadata": {},
   "outputs": [],
   "source": [
    "def getRatios(seq):\n",
    "    if len(seq) <= 1:\n",
    "        print(\"Sequence length must be greater than 1\")\n",
    "        \n",
    "\n",
    "    ratios_list = []\n",
    "    for k in range(len(seq) - 1):\n",
    "        quotient = round(seq[k + 1] / seq[k], 5)\n",
    "        ratios_list.append(quotient)\n",
    "\n",
    "    return ratios_list\n"
   ]
  },
  {
   "cell_type": "code",
   "execution_count": null,
   "id": "9aa1d7ee",
   "metadata": {},
   "outputs": [],
   "source": [
    "def isGeometric(seq):\n",
    "    if len(seq) <= 2:\n",
    "        print(\"Sequence length must be greater than 2\")\n",
    "        \n",
    "\n",
    "    ratios = getRatios(seq)\n",
    "    identical_ratio = ratios[0]\n",
    "\n",
    "    for x in ratios:\n",
    "        if abs(x - identical_ratio) >= 1e-5:\n",
    "            return False\n",
    "\n",
    "    return True\n"
   ]
  },
  {
   "cell_type": "code",
   "execution_count": null,
   "id": "6715a079",
   "metadata": {},
   "outputs": [],
   "source": [
    "def getLinearParameters(mx_plus_b):\n",
    "    # Split the string to extract the coefficient of x (slope) and the constant term (intercept)\n",
    "    slope, y_intercept = mx_plus_b.split('x + ')\n",
    "    \n",
    "    # Convert the extracted values to floats and return them as a list\n",
    "    return float(slope), float(intercept)\n"
   ]
  },
  {
   "cell_type": "code",
   "execution_count": 2,
   "id": "31a69ce7",
   "metadata": {},
   "outputs": [],
   "source": [
    "def getLinearParameters(mx_plus_b):\n",
    "\n",
    "    if \"x + \" not in mx_plus_b:\n",
    "        print(\"Format must be mx + b.\")\n",
    "\n",
    "    slope, intercept = mx_plus_b.split('x + ')\n",
    "    \n",
    "    return [float(slope), float(intercept)]\n"
   ]
  },
  {
   "cell_type": "code",
   "execution_count": null,
   "id": "d1ac39be",
   "metadata": {},
   "outputs": [],
   "source": [
    "def linearTransformation(sequence, mx_plus_b):\n",
    "    if len(sequence) <= 1:\n",
    "        print(\"Sequence length must be greater than 1\")\n",
    "        \n",
    "    slope, intercept = getLinearParameters(mx_plus_b)\n",
    "\n",
    "    new_sequence = [round((slope * x) + intercept, 5) for x in sequence]\n",
    "\n",
    "    return new_sequence\n"
   ]
  },
  {
   "cell_type": "code",
   "execution_count": null,
   "id": "4007740a",
   "metadata": {},
   "outputs": [],
   "source": [
    "def linearTransformation(sequence, mx_plus_b):\n",
    "    if len(sequence) <= 1:\n",
    "        print(\"Sequence length must be greater than 1\")\n",
    "\n",
    "    slope, y_intercept = getLinearParameters(mx_plus_b)\n",
    "\n",
    "    new_sequence = []\n",
    "    for x in sequence:\n",
    "        new_value = round((slope * x) + y_intercept, 5)\n",
    "        new_sequence.append(new_value)\n",
    "\n",
    "    return new_sequence\n"
   ]
  },
  {
   "cell_type": "code",
   "execution_count": null,
   "id": "9763b424",
   "metadata": {},
   "outputs": [],
   "source": [
    "def linearSequence(num_terms, mx_plus_b):\n",
    "    if num_terms <= 1:\n",
    "        print(\"Number of terms must be greater than 1\")\n",
    "\n",
    "    slope, y_intercept = getLinearParameters(mx_plus_b)\n",
    "\n",
    "    linear_sequence = []\n",
    "    for n in range(num_terms):\n",
    "        term = round((slope * n) + y_intercept, 5)\n",
    "        linear_sequence.append(term)\n",
    "\n",
    "    return linear_sequence\n"
   ]
  },
  {
   "cell_type": "code",
   "execution_count": null,
   "id": "9f01b0a1",
   "metadata": {},
   "outputs": [],
   "source": [
    "def getLinearEquation(seq):\n",
    "    if len(seq) <= 1:\n",
    "        print(\"Sequence length must be greater than 1\")\n",
    "\n",
    "    # Calculate the common difference between consecutive terms\n",
    "    common_difference = seq[1] - seq[0]\n",
    "\n",
    "\n",
    "    # Calculate the slope (m) and y-intercept (b)\n",
    "    slope = common_difference\n",
    "    y_intercept = seq[0] - (slope * 0)  # y_intercept = first term - slope * n\n",
    "\n",
    "    # Format the linear equation as a string in the form \"mx + b\"\n",
    "    linear_equation = str(slope) + 'x + ' + str(y_intercept)\n",
    "\n",
    "    return linear_equation\n"
   ]
  }
 ],
 "metadata": {
  "kernelspec": {
   "display_name": "Python 3 (ipykernel)",
   "language": "python",
   "name": "python3"
  },
  "language_info": {
   "codemirror_mode": {
    "name": "ipython",
    "version": 3
   },
   "file_extension": ".py",
   "mimetype": "text/x-python",
   "name": "python",
   "nbconvert_exporter": "python",
   "pygments_lexer": "ipython3",
   "version": "3.9.13"
  }
 },
 "nbformat": 4,
 "nbformat_minor": 5
}
